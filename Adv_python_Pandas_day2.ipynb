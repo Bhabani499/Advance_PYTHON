{
 "cells": [
  {
   "cell_type": "code",
   "execution_count": 1,
   "metadata": {},
   "outputs": [],
   "source": [
    "# Introduction to DataFrame:"
   ]
  },
  {
   "cell_type": "code",
   "execution_count": 3,
   "metadata": {},
   "outputs": [],
   "source": [
    "#Definition - A DataFrame is a two dimensional data structure."
   ]
  },
  {
   "cell_type": "code",
   "execution_count": 4,
   "metadata": {},
   "outputs": [],
   "source": [
    "import numpy as np\n",
    "import pandas as pd"
   ]
  },
  {
   "cell_type": "code",
   "execution_count": null,
   "metadata": {},
   "outputs": [],
   "source": [
    "General syntax of a DataFrame - pandas.DataFrame (data,index,columns,dtype)"
   ]
  },
  {
   "cell_type": "code",
   "execution_count": null,
   "metadata": {},
   "outputs": [],
   "source": [
    "Creating an empty DataFrame :"
   ]
  },
  {
   "cell_type": "code",
   "execution_count": 5,
   "metadata": {},
   "outputs": [
    {
     "name": "stdout",
     "output_type": "stream",
     "text": [
      "Empty DataFrame\n",
      "Columns: []\n",
      "Index: []\n"
     ]
    }
   ],
   "source": [
    "df = pd.DataFrame()\n",
    "print(df)"
   ]
  },
  {
   "cell_type": "code",
   "execution_count": 6,
   "metadata": {},
   "outputs": [
    {
     "name": "stdout",
     "output_type": "stream",
     "text": [
      "   0\n",
      "0  1\n",
      "1  2\n",
      "2  3\n",
      "3  4\n",
      "4  5\n"
     ]
    }
   ],
   "source": [
    "data = [1,2,3,4,5]\n",
    "df = pd.DataFrame (data)\n",
    "print(df)"
   ]
  },
  {
   "cell_type": "code",
   "execution_count": 7,
   "metadata": {},
   "outputs": [
    {
     "name": "stdout",
     "output_type": "stream",
     "text": [
      "   0  1  2  3   4\n",
      "0  1  2  3  4   5\n",
      "1  6  7  8  9  10\n"
     ]
    }
   ],
   "source": [
    "data = [1,2,3,4,5],[6,7,8,9,10]\n",
    "df = pd.DataFrame (data)\n",
    "print(df)"
   ]
  },
  {
   "cell_type": "code",
   "execution_count": 8,
   "metadata": {},
   "outputs": [
    {
     "name": "stdout",
     "output_type": "stream",
     "text": [
      "   0  1  2  3   4\n",
      "0  1  2  3  4   5\n",
      "1  6  7  8  9  10\n"
     ]
    }
   ],
   "source": [
    "data = [[1,2,3,4,5],[6,7,8,9,10]]\n",
    "df = pd.DataFrame (data)\n",
    "print(df)"
   ]
  },
  {
   "cell_type": "code",
   "execution_count": 9,
   "metadata": {},
   "outputs": [
    {
     "name": "stdout",
     "output_type": "stream",
     "text": [
      "       name  marks\n",
      "0    faiyaz     55\n",
      "1   shankar     45\n",
      "2      hari     50\n",
      "3  hepsibha     48\n"
     ]
    }
   ],
   "source": [
    "data = [['faiyaz',55],['shankar',45],['hari',50],['hepsibha',48]]\n",
    "df = pd.DataFrame(data,columns = ['name','marks'])\n",
    "print(df)"
   ]
  },
  {
   "cell_type": "code",
   "execution_count": 10,
   "metadata": {},
   "outputs": [
    {
     "name": "stdout",
     "output_type": "stream",
     "text": [
      "       name  marks\n",
      "0    faiyaz     55\n",
      "1   shankar     45\n",
      "2      hari     50\n",
      "3  hepsibha     48\n"
     ]
    }
   ],
   "source": [
    "data = ['faiyaz',55],['shankar',45],['hari',50],['hepsibha',48]\n",
    "df = pd.DataFrame(data,columns = ['name','marks'])\n",
    "print(df)"
   ]
  },
  {
   "cell_type": "code",
   "execution_count": 11,
   "metadata": {},
   "outputs": [
    {
     "name": "stdout",
     "output_type": "stream",
     "text": [
      "       name  marks\n",
      "0    faiyaz   55.0\n",
      "1   shankar   45.0\n",
      "2      hari   50.0\n",
      "3  hepsibha   48.0\n"
     ]
    }
   ],
   "source": [
    "data = [['faiyaz',55],['shankar',45],['hari',50],['hepsibha',48]]\n",
    "df = pd.DataFrame(data,columns = ['name','marks'],dtype = float)\n",
    "print(df)"
   ]
  },
  {
   "cell_type": "code",
   "execution_count": null,
   "metadata": {},
   "outputs": [],
   "source": [
    "Creating a DataFrame by using a dictionary of ndarrays : \n",
    "    \"Dictionary keys will act as 'COLUMN NAMES'"
   ]
  },
  {
   "cell_type": "code",
   "execution_count": 12,
   "metadata": {},
   "outputs": [
    {
     "name": "stdout",
     "output_type": "stream",
     "text": [
      "      Name  Age\n",
      "0    shaik   28\n",
      "1    bruce   32\n",
      "2    peter   21\n",
      "3  bhabani   24\n"
     ]
    }
   ],
   "source": [
    "data = {'Name':['shaik','bruce','peter','bhabani'],'Age':[28,32,21,24]}\n",
    "df = pd.DataFrame(data)\n",
    "print(df)"
   ]
  },
  {
   "cell_type": "code",
   "execution_count": 13,
   "metadata": {},
   "outputs": [
    {
     "name": "stdout",
     "output_type": "stream",
     "text": [
      "          Name  Age\n",
      "Rank1    shaik   28\n",
      "Rank2    bruce   32\n",
      "Rank3    peter   21\n",
      "Rank4  bhabani   24\n"
     ]
    }
   ],
   "source": [
    "data = {'Name':['shaik','bruce','peter','bhabani'],'Age':[28,32,21,24]}\n",
    "df = pd.DataFrame(data,index = ['Rank1','Rank2','Rank3','Rank4'])\n",
    "print(df)"
   ]
  },
  {
   "cell_type": "code",
   "execution_count": 14,
   "metadata": {},
   "outputs": [
    {
     "name": "stdout",
     "output_type": "stream",
     "text": [
      "          Name  Age\n",
      "Rank2    shaik   28\n",
      "Rank1    bruce   32\n",
      "Rank4    peter   21\n",
      "Rank3  bhabani   24\n"
     ]
    }
   ],
   "source": [
    "data = {'Name':['shaik','bruce','peter','bhabani'],'Age':[28,32,21,24]}\n",
    "df = pd.DataFrame(data,index = ['Rank2','Rank1','Rank4','Rank3'])\n",
    "print(df)"
   ]
  }
 ],
 "metadata": {
  "kernelspec": {
   "display_name": "Python 3",
   "language": "python",
   "name": "python3"
  },
  "language_info": {
   "codemirror_mode": {
    "name": "ipython",
    "version": 3
   },
   "file_extension": ".py",
   "mimetype": "text/x-python",
   "name": "python",
   "nbconvert_exporter": "python",
   "pygments_lexer": "ipython3",
   "version": "3.7.6"
  }
 },
 "nbformat": 4,
 "nbformat_minor": 4
}
